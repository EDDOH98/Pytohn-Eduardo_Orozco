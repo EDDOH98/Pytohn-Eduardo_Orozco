{
  "nbformat": 4,
  "nbformat_minor": 0,
  "metadata": {
    "colab": {
      "name": "Python_EduardoOH.ipynb",
      "provenance": [],
      "collapsed_sections": [],
      "authorship_tag": "ABX9TyOYMqOzY/bgaZG05267JVXU",
      "include_colab_link": true
    },
    "kernelspec": {
      "name": "python3",
      "display_name": "Python 3"
    }
  },
  "cells": [
    {
      "cell_type": "markdown",
      "metadata": {
        "id": "view-in-github",
        "colab_type": "text"
      },
      "source": [
        "<a href=\"https://colab.research.google.com/github/EDDOH98/Pytohn-Eduardo_Orozco/blob/main/Python_EduardoOH.ipynb\" target=\"_parent\"><img src=\"https://colab.research.google.com/assets/colab-badge.svg\" alt=\"Open In Colab\"/></a>"
      ]
    },
    {
      "cell_type": "code",
      "metadata": {
        "id": "-9rwyb8afFoR"
      },
      "source": [
        ""
      ],
      "execution_count": null,
      "outputs": []
    },
    {
      "cell_type": "markdown",
      "metadata": {
        "id": "wU1ZGFnVfH6N"
      },
      "source": [
        "Dia 1; 08/02/2021.\r\n",
        "Tema_02.\r\n",
        "Imprimir y solicitar datos."
      ]
    },
    {
      "cell_type": "code",
      "metadata": {
        "colab": {
          "base_uri": "https://localhost:8080/"
        },
        "id": "wyrz4ZujfU06",
        "outputId": "d8f62df0-0fce-4f49-997d-388c24035505"
      },
      "source": [
        "#Se desclara una variable de tipo string y se imprime\r\n",
        "\r\n",
        "Mensaje = \"-Hola\"\r\n",
        "\r\n",
        "print(Mensaje)\r\n",
        "\r\n",
        "print(\"+¿Cómo estas? \\n-Estoy bien\",Mensaje )\r\n",
        "\r\n",
        "#\\n es salto de linea.\r\n",
        "#\\t es un tabulador."
      ],
      "execution_count": 9,
      "outputs": [
        {
          "output_type": "stream",
          "text": [
            "-Hola\n",
            "+¿Cómo estas? \n",
            "-Estoy bien -Hola\n"
          ],
          "name": "stdout"
        }
      ]
    },
    {
      "cell_type": "code",
      "metadata": {
        "colab": {
          "base_uri": "https://localhost:8080/"
        },
        "id": "EOwJOdqwgtRE",
        "outputId": "a3c5aa5b-600b-44ee-9a76-df66d3129ef9"
      },
      "source": [
        "#Concatenacion (union) de strings\r\n",
        "\r\n",
        "M_1= \"Estoy\"\r\n",
        "M_2= \" en\"\r\n",
        "M_3=\" una clase\"\r\n",
        "M_total = M_1 + M_2 + M_3\r\n",
        "\r\n",
        "print(M_total + \" de Python\")\r\n",
        "\r\n",
        "\r\n",
        "#Concatenando numeros,no los suma solo los pone en orden.\r\n",
        "Numero_1=\"1\"\r\n",
        "Numero_2=\"2\"\r\n",
        "Numero_3= Numero_1 + Numero_2\r\n",
        "print(Numero_3)\r\n"
      ],
      "execution_count": 14,
      "outputs": [
        {
          "output_type": "stream",
          "text": [
            "Estoy en una clase de Python\n",
            "12\n"
          ],
          "name": "stdout"
        }
      ]
    },
    {
      "cell_type": "code",
      "metadata": {
        "colab": {
          "base_uri": "https://localhost:8080/"
        },
        "id": "GwKb8WMdiEAK",
        "outputId": "af2a345f-c547-4059-d61d-7ab2c3732113"
      },
      "source": [
        "#Hacer que el usuario ingrese una variable.\r\n",
        "\r\n",
        "print(\"¿Cómo te llamas?\")\r\n",
        "Nombre = input()\r\n",
        "#Solicitar un string al usuario mediante un mensaje\r\n",
        "Apellido =input(\"¿Cual es tu apellido? \")\r\n",
        "print(Nombre, Apellido)"
      ],
      "execution_count": 16,
      "outputs": [
        {
          "output_type": "stream",
          "text": [
            "¿Cómo te llamas?\n",
            "Eduardo\n",
            "¿Cual es tu apellido? Orozco\n",
            "Eduardo Orozco\n"
          ],
          "name": "stdout"
        }
      ]
    },
    {
      "cell_type": "code",
      "metadata": {
        "id": "AERntsqRimYo"
      },
      "source": [
        ""
      ],
      "execution_count": null,
      "outputs": []
    }
  ]
}